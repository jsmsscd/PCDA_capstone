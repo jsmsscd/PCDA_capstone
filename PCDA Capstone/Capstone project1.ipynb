{
 "cells": [
  {
   "cell_type": "markdown",
   "metadata": {},
   "source": [
    "# CapStone Project  "
   ]
  },
  {
   "cell_type": "markdown",
   "metadata": {},
   "source": [
    "* Data for mobiles is scrapped from Snapdeal site\n",
    "* After creating .csv file Data is Analysed,cleaned and the EDA is performed\n",
    "* Final Conclusions based on univariate and multivariate analysis age given in last\n",
    "\n"
   ]
  },
  {
   "cell_type": "code",
   "execution_count": 1,
   "metadata": {},
   "outputs": [
    {
     "name": "stdout",
     "output_type": "stream",
     "text": [
      "Requirement already satisfied: fake-useragent in c:\\users\\cuhp\\anaconda3\\lib\\site-packages (0.1.11)Note: you may need to restart the kernel to use updated packages.\n",
      "\n"
     ]
    }
   ],
   "source": [
    "pip install fake-useragent"
   ]
  },
  {
   "cell_type": "code",
   "execution_count": 2,
   "metadata": {},
   "outputs": [],
   "source": [
    "import requests                          # Required Libraries\n",
    "import bs4\n",
    "from bs4 import BeautifulSoup\n",
    "from fake_useragent import UserAgent\n",
    "import pandas as pd\n",
    "import seaborn as sbn\n",
    "import matplotlib.pyplot as plt"
   ]
  },
  {
   "cell_type": "code",
   "execution_count": 3,
   "metadata": {},
   "outputs": [],
   "source": [
    "product=[]                        # initialization of dataframe features\n",
    "ram=[]\n",
    "hdd=[]\n",
    "color=[]\n",
    "price=[]\n",
    "discount=[]\n",
    "rating=[]\n",
    "count=0"
   ]
  },
  {
   "cell_type": "code",
   "execution_count": 4,
   "metadata": {},
   "outputs": [
    {
     "name": "stdout",
     "output_type": "stream",
     "text": [
      "<fake_useragent.fake.FakeUserAgent object at 0x0000003E6F3DC820>\n"
     ]
    }
   ],
   "source": [
    "#Fake User Agent\n",
    "fake_useragent=UserAgent()\n",
    "print(fake_useragent)"
   ]
  },
  {
   "cell_type": "code",
   "execution_count": 5,
   "metadata": {},
   "outputs": [
    {
     "name": "stdout",
     "output_type": "stream",
     "text": [
      "Enter Product Name :mobiles\n",
      "mobiles\n"
     ]
    }
   ],
   "source": [
    "product_name=input(\"Enter Product Name :\")             #input for product name\n",
    "print(product_name)"
   ]
  },
  {
   "cell_type": "code",
   "execution_count": 6,
   "metadata": {},
   "outputs": [
    {
     "name": "stdout",
     "output_type": "stream",
     "text": [
      "https://www.snapdeal.com/search?keyword=mobiles&santizedKeyword=&catId=&categoryId=0&suggested=false&vertical=&noOfResults=20&searchState=&clickSrc=go_header&lastKeyword=&prodCatId=&changeBackToAll=false&foundInAll=false&categoryIdSearched=&cityPageUrl=&categoryUrl=&url=&utmContent=&dealDetail=&sort=rlvncy\n"
     ]
    }
   ],
   "source": [
    "url=\"https://www.snapdeal.com/search?keyword={0}&santizedKeyword=&catId=&categoryId=0&suggested=false&vertical=&noOfResults=20&searchState=&clickSrc=go_header&lastKeyword=&prodCatId=&changeBackToAll=false&foundInAll=false&categoryIdSearched=&cityPageUrl=&categoryUrl=&url=&utmContent=&dealDetail=&sort=rlvncy\"\n",
    "print(url.format(product_name))     "
   ]
  },
  {
   "cell_type": "code",
   "execution_count": 7,
   "metadata": {},
   "outputs": [],
   "source": [
    "def productname(s):             # user defined function to seprate Product title,\n",
    "    #print(len(s))              # HDD,RAM,color as they are under one tage in html page\n",
    "    st=0\n",
    "    l=s.find(\",\")\n",
    "    r=0\n",
    "    sr=[[]]\n",
    "    p=\"\"\n",
    "    i=0\n",
    "    while i<=3:\n",
    "        p=s[st:l]\n",
    "        st=l+1\n",
    "        l=s.find(\",\",st,(len(s)+1))\n",
    "        i=i+1\n",
    "    #print()\n",
    "   # print(p)\n",
    "        sr.append([p])\n",
    "    return sr"
   ]
  },
  {
   "cell_type": "code",
   "execution_count": null,
   "metadata": {},
   "outputs": [],
   "source": []
  },
  {
   "cell_type": "code",
   "execution_count": 8,
   "metadata": {
    "scrolled": true
   },
   "outputs": [
    {
     "name": "stdout",
     "output_type": "stream",
     "text": [
      "No. of rows searched 120\n",
      "                   ProductName                    HDD                    RAM  \\\n",
      "0                  [Redmi 9A ]               [ 32GB ]               [ 2 GB ]   \n",
      "1           [Nokia NOKIA 2.3 ]              [ 32 MB ]               [ 2 GB ]   \n",
      "2                 [Realme C2 ]               [ 32GB ]               [ 2 GB ]   \n",
      "3                [Xolo Era 2 ]                [ 8GB ]               [ 1 GB ]   \n",
      "4                  [Redmi 9i ]               [ 64GB ]               [ 4 GB ]   \n",
      "5             [Redmi Note 7s ]              [ 64 GB ]               [ 4 GB ]   \n",
      "6            [Lenovo K8 Plus ]               [ 32GB ]               [ 3 GB ]   \n",
      "7              [itel A25 pro ]               [ 32GB ]               [ 2 GB ]   \n",
      "8        [Micromax X419  Blac]  [Micromax X419  Blac]  [Micromax X419  Blac]   \n",
      "9                  [Realme 7 ]               [ 64GB ]               [ 6 GB ]   \n",
      "10      [Coolpad Note 3 Plus ]               [ 16GB ]               [ 3 GB ]   \n",
      "11               [Realme C11 ]               [ 32GB ]               [ 2 GB ]   \n",
      "12        [YU YUNIQUE 2 PLUS ]               [ 16GB ]               [ 3 GB ]   \n",
      "13           [Oppo Reno3 Pro ]              [ 256GB ]               [ 8 GB ]   \n",
      "14  [ZTE Blade V7 Lite VoLTE ]               [ 16GB ]               [ 3 GB ]   \n",
      "15      [Blackberry Passport ]               [ 32GB ]               [ 3 GB ]   \n",
      "16                   [Lenovo ]                [ 8GB ]               [ 2 GB ]   \n",
      "17    [Lenovo Lenovo K8 Plus ]          [Venom Black]               [ 32 GB]   \n",
      "18            [INFINIX Hot 7 ]               [ 64GB ]               [ 4 GB ]   \n",
      "19                  [Redmi 9 ]               [ 64GB ]               [ 4 GB ]   \n",
      "20    [Lenovo Lenovo K8 Plus ]          [Venom Black]               [ 32 GB]   \n",
      "21          [Nokia NOKIA 2.3 ]              [ 32 MB ]               [ 2 GB ]   \n",
      "22                 [Realme 7 ]              [ 128GB ]               [ 8 GB ]   \n",
      "23                    [MI A2 ]              [4GB RAM]                    [ ]   \n",
      "24             [Redmi Note 9 ]              [ 128GB ]               [ 4 GB ]   \n",
      "25         [Redmi Note 9 Pro ]              [ 128GB ]               [ 4 GB ]   \n",
      "26               [Realme C11 ]               [ 32GB ]               [ 2 GB ]   \n",
      "27                [Gionee A1 ]              [ 64 MB ]               [ 4 GB ]   \n",
      "28             [Oppo A5 2020 ]               [ 64GB ]               [ 3 GB ]   \n",
      "29           [Micromax IN 1b ]               [ 2 GB ]               [ 2 GB ]   \n",
      "30       [Micromax X419  Blac]  [Micromax X419  Blac]  [Micromax X419  Blac]   \n",
      "31      [Coolpad Note 3 Plus ]               [ 16GB ]               [ 3 GB ]   \n",
      "32          [Oppo Reno 4 Pro ]              [ 128GB ]               [ 8 GB ]   \n",
      "33                [Realme C3 ]               [ 64GB ]               [ 4 GB ]   \n",
      "34           [Gionee A1 Lite ]               [ 32GB ]               [ 3 GB ]   \n",
      "35             [Redmi Note 9 ]              [ 128GB ]               [ 4 GB ]   \n",
      "36                  [Nokia 6 ]               [ 32GB ]               [ 3 GB ]   \n",
      "37          [Oppo Reno 4 Pro ]              [ 128GB ]               [ 8 GB ]   \n",
      "38       [Micromax In Note 1 ]               [ 64GB ]               [ 4 GB ]   \n",
      "39             [itel A25 pro ]               [ 32GB ]               [ 2 GB ]   \n",
      "40          [Nokia NOKIA 2.3 ]              [ 32 MB ]               [ 2 GB ]   \n",
      "41               [Xolo Era 2 ]                [ 8GB ]               [ 1 GB ]   \n",
      "42                 [Redmi 9A ]               [ 32GB ]               [ 2 GB ]   \n",
      "43                    [MI A2 ]              [4GB RAM]                    [ ]   \n",
      "44             [Oppo F19 Pro ]              [ 128GB ]               [ 8 GB ]   \n",
      "45                  [Redmi 9 ]               [ 64GB ]               [ 4 GB ]   \n",
      "46           [Coolpad Cool 1 ]              [ 32 GB ]               [ 3 GB ]   \n",
      "47    [Lenovo Lenovo K8 Plus ]          [Venom Black]               [ 32 GB]   \n",
      "48            [Redmi Note 7s ]              [ 64 GB ]               [ 4 GB ]   \n",
      "49            [INFINIX Hot 7 ]               [ 64GB ]               [ 4 GB ]   \n",
      "50                 [Nokia C3 ]               [ 16GB ]               [ 2 GB ]   \n",
      "51             [itel A25 pro ]               [ 32GB ]               [ 2 GB ]   \n",
      "52      [Coolpad Note 3 Plus ]               [ 16GB ]               [ 3 GB ]   \n",
      "53            [Redmi 9 Power ]              [ 128GB ]               [ 4 GB ]   \n",
      "54       [Micromax X419  Blac]  [Micromax X419  Blac]  [Micromax X419  Blac]   \n",
      "55                  [OPPO A7 ]               [ 64GB ]               [ 4 GB ]   \n",
      "56               [Realme C11 ]               [ 32GB ]               [ 2 GB ]   \n",
      "57                [Gionee A1 ]              [ 64 MB ]               [ 4 GB ]   \n",
      "58           [Oppo Reno3 Pro ]              [ 256GB ]               [ 8 GB ]   \n",
      "59           [Lenovo K8 Plus ]               [ 32GB ]               [ 3 GB ]   \n",
      "\n",
      "                    Color        Price Discount  Rating  \n",
      "0                 [ Gree]   Rs.  7,799       3%    (18)  \n",
      "1                 [ Gree]   Rs.  8,999       10     (2)  \n",
      "2                  [ Blu]   Rs.  8,199       9%    (52)  \n",
      "3          [ Pyramid Gol]   Rs.  4,482       15  (9254)  \n",
      "4                  [ Blu]   Rs.  8,999       10     (8)  \n",
      "5                  [ Blu]  Rs.  11,990       20   (582)  \n",
      "6                 [ Blac]   Rs.  7,990       20     (1)  \n",
      "7                 [ Gree]   Rs.  5,399       10     (6)  \n",
      "8   [Micromax X419  Blac]   Rs.  1,295       34    (59)  \n",
      "9             [ Mist Blu]  Rs.  15,299       15     (5)  \n",
      "10                 [ Gol]   Rs.  5,900       38     (6)  \n",
      "11            [ Rich Gre]   Rs.  8,299       8%    (13)  \n",
      "12            [ Champagn]   Rs.  5,999       25    (16)  \n",
      "13       [ Midnight Blac]  Rs.  27,990       22  (3429)  \n",
      "14               [ Silve]   Rs.  8,999       50   (103)  \n",
      "15                [ Blac]  Rs.  24,999       8%     (1)  \n",
      "16                [ Blac]  Rs.  10,999       20   (103)  \n",
      "17                   [  ]   Rs.  7,990       1%     (2)  \n",
      "18       [ Midnight Blac]   Rs.  9,889       11     (2)  \n",
      "19         [ Carbon Blac]   Rs.  9,799       20    (59)  \n",
      "20                   [  ]   Rs.  7,990       10     (1)  \n",
      "21                [ Gree]   Rs.  8,999       15     (5)  \n",
      "22            [ Mist Blu]  Rs.  17,799       17   (549)  \n",
      "23               [ 64GB ]  Rs.  12,499       14     (6)  \n",
      "24                [ Blac]  Rs.  14,199       15     (6)  \n",
      "25          [ Aurora Blu]  Rs.  15,299       8%    (59)  \n",
      "26           [ Rich Gree]   Rs.  8,299       64     (5)  \n",
      "27                 [ Gol]   Rs.  7,999       27    (76)  \n",
      "28                [ Blac]  Rs.  10,990       22   (128)  \n",
      "29               [ Purpl]   Rs.  7,045       34     (5)  \n",
      "30  [Micromax X419  Blac]   Rs.  1,295       38     (1)  \n",
      "31                 [ Gol]   Rs.  5,900       8%     (2)  \n",
      "32         [ Starry Nigh]  Rs.  34,990       21  (9254)  \n",
      "33            [ Aqua Blu]  Rs.  10,990       28    (18)  \n",
      "34           [ White Gol]   Rs.  6,499       14    (59)  \n",
      "35                [ Whit]  Rs.  14,199       27     (1)  \n",
      "36                [ Whit]   Rs.  7,990       8%    (18)  \n",
      "37          [ Silky Whit]  Rs.  34,990       30   (103)  \n",
      "38                [ Gree]  Rs.  10,499       12     (8)  \n",
      "39               [ Purpl]   Rs.  5,299       10     (1)  \n",
      "40                [ Gree]   Rs.  8,999       15     (1)  \n",
      "41         [ Pyramid Gol]   Rs.  4,482       3%    (59)  \n",
      "42                [ Gree]   Rs.  7,799       17     (6)  \n",
      "43               [ 64GB ]  Rs.  12,499       10    (26)  \n",
      "44          [ Fluid Blac]  Rs.  21,490       11     (5)  \n",
      "45         [ Carbon Blac]   Rs.  9,799       42   (549)  \n",
      "46                 [ Gol]   Rs.  7,001       20   (582)  \n",
      "47                   [  ]   Rs.  7,990       27    None  \n",
      "48                [ Blac]  Rs.  10,990       1%    None  \n",
      "49       [ Midnight Blac]   Rs.  9,889       18    None  \n",
      "50            [ Sand Gol]   Rs.  7,000       10    None  \n",
      "51                [ Gree]   Rs.  5,399       38    None  \n",
      "52                 [ Gol]   Rs.  5,900       19    None  \n",
      "53                [ Blac]  Rs.  12,999       34    None  \n",
      "54  [Micromax X419  Blac]   Rs.  1,295       32    None  \n",
      "55                 [ Gol]  Rs.  12,990       8%    None  \n",
      "56           [ Rich Gree]   Rs.  8,299       64    None  \n",
      "57                 [ Gol]   Rs.  7,999       22    None  \n",
      "58       [ Midnight Blac]  Rs.  27,990       20    None  \n",
      "59                [ Blac]   Rs.  7,990     None    None  \n"
     ]
    }
   ],
   "source": [
    "# Scraping data for mobiles from Snapdeal\n",
    "# Increase range to run for more products\n",
    "for i in range(1,2):     \n",
    "    url=\"https://www.snapdeal.com/search?keyword={0}&santizedKeyword=&catId=&categoryId=0&suggested=false&vertical=&noOfResults=20&searchState=&clickSrc=go_header&lastKeyword=&prodCatId=&changeBackToAll=false&foundInAll=false&categoryIdSearched=&cityPageUrl=&categoryUrl=&url=&utmContent=&dealDetail=&sort=rlvncy\"\n",
    "    url=url.format(product_name)\n",
    "    page=requests.get(url, headers ={\"User_agent\": fake_useragent.chrome})\n",
    "    html=page.content\n",
    "    page_soup=bs4.BeautifulSoup(html, \"html.parser\")\n",
    "    for c in page_soup.find_all('a',{'class':'dp-widget-link noUdLine'}):\n",
    "        for pt in c.find_all('p',{'class':'product-title'}):# class=product-title')#,attrs={'class':'produt-title'}))#,{'class':'dp-widget-link noUdLine hashAdded'}))\n",
    "            s=pt.text\n",
    "            s=s.replace(\"(\",\",\")\n",
    "            s=(s.replace(\")\",\",\"))\n",
    "            #print(len(s))\n",
    "            #print(s)\n",
    "            sp=productname(s)\n",
    "           \n",
    "            product.append(sp[1]) \n",
    "            hdd.append(sp[2]) \n",
    "            ram.append(sp[3]) \n",
    "            color.append(sp[4])\n",
    "        pr=c.find_all('span', attrs={'class':'lfloat product-price'})   \n",
    "        for span in pr:\n",
    "            #print(span.text)\n",
    "            price.append(span.text) #if type(span) == bs4.element.Tag  else price.append('NaN') # Add Rating to list\n",
    "        dis=c.find_all('div', attrs={'class':'product-discount'})\n",
    "        for divs in dis:\n",
    "            s=divs.find('span')\n",
    "            ds=s.text\n",
    "            #print(ds[:2])\n",
    "            #if type(s) != bs4.element.Tag:\n",
    "             #   discount.append('NaN') # Add Rating to list\n",
    "            #else:\n",
    "            discount.append(ds[:2])\n",
    "        for pt in c.find_all('p',{'class':'product-rating-count'}):\n",
    "            #print(pt.text)\n",
    "            if type(pt) == bs4.element.Tag:\n",
    "                rating.append(pt.text)  \n",
    "            else: \n",
    "                rating.append('NaN') # Add Rating to list\n",
    "        count=count+1\n",
    "    data={'ProductName':product,'HDD':hdd,'RAM':ram,'Color':color,'Price':price,'Discount':discount,'Rating':rating}\n",
    "    df = pd.DataFrame.from_dict(data, orient='index')\n",
    "    df = df.transpose()\n",
    "print('No. of rows searched',count)    \n",
    "print(df)\n",
    "        \n",
    "        "
   ]
  },
  {
   "cell_type": "code",
   "execution_count": 9,
   "metadata": {},
   "outputs": [
    {
     "data": {
      "text/html": [
       "<div>\n",
       "<style scoped>\n",
       "    .dataframe tbody tr th:only-of-type {\n",
       "        vertical-align: middle;\n",
       "    }\n",
       "\n",
       "    .dataframe tbody tr th {\n",
       "        vertical-align: top;\n",
       "    }\n",
       "\n",
       "    .dataframe thead th {\n",
       "        text-align: right;\n",
       "    }\n",
       "</style>\n",
       "<table border=\"1\" class=\"dataframe\">\n",
       "  <thead>\n",
       "    <tr style=\"text-align: right;\">\n",
       "      <th></th>\n",
       "      <th>ProductName</th>\n",
       "      <th>HDD</th>\n",
       "      <th>RAM</th>\n",
       "      <th>Color</th>\n",
       "      <th>Price</th>\n",
       "      <th>Discount</th>\n",
       "      <th>Rating</th>\n",
       "    </tr>\n",
       "  </thead>\n",
       "  <tbody>\n",
       "    <tr>\n",
       "      <th>0</th>\n",
       "      <td>[Redmi 9A ]</td>\n",
       "      <td>[ 32GB ]</td>\n",
       "      <td>[ 2 GB ]</td>\n",
       "      <td>[ Gree]</td>\n",
       "      <td>Rs.  7,799</td>\n",
       "      <td>3%</td>\n",
       "      <td>(18)</td>\n",
       "    </tr>\n",
       "    <tr>\n",
       "      <th>1</th>\n",
       "      <td>[Nokia NOKIA 2.3 ]</td>\n",
       "      <td>[ 32 MB ]</td>\n",
       "      <td>[ 2 GB ]</td>\n",
       "      <td>[ Gree]</td>\n",
       "      <td>Rs.  8,999</td>\n",
       "      <td>10</td>\n",
       "      <td>(2)</td>\n",
       "    </tr>\n",
       "    <tr>\n",
       "      <th>2</th>\n",
       "      <td>[Realme C2 ]</td>\n",
       "      <td>[ 32GB ]</td>\n",
       "      <td>[ 2 GB ]</td>\n",
       "      <td>[ Blu]</td>\n",
       "      <td>Rs.  8,199</td>\n",
       "      <td>9%</td>\n",
       "      <td>(52)</td>\n",
       "    </tr>\n",
       "    <tr>\n",
       "      <th>3</th>\n",
       "      <td>[Xolo Era 2 ]</td>\n",
       "      <td>[ 8GB ]</td>\n",
       "      <td>[ 1 GB ]</td>\n",
       "      <td>[ Pyramid Gol]</td>\n",
       "      <td>Rs.  4,482</td>\n",
       "      <td>15</td>\n",
       "      <td>(9254)</td>\n",
       "    </tr>\n",
       "    <tr>\n",
       "      <th>4</th>\n",
       "      <td>[Redmi 9i ]</td>\n",
       "      <td>[ 64GB ]</td>\n",
       "      <td>[ 4 GB ]</td>\n",
       "      <td>[ Blu]</td>\n",
       "      <td>Rs.  8,999</td>\n",
       "      <td>10</td>\n",
       "      <td>(8)</td>\n",
       "    </tr>\n",
       "  </tbody>\n",
       "</table>\n",
       "</div>"
      ],
      "text/plain": [
       "          ProductName        HDD       RAM           Color       Price  \\\n",
       "0         [Redmi 9A ]   [ 32GB ]  [ 2 GB ]         [ Gree]  Rs.  7,799   \n",
       "1  [Nokia NOKIA 2.3 ]  [ 32 MB ]  [ 2 GB ]         [ Gree]  Rs.  8,999   \n",
       "2        [Realme C2 ]   [ 32GB ]  [ 2 GB ]          [ Blu]  Rs.  8,199   \n",
       "3       [Xolo Era 2 ]    [ 8GB ]  [ 1 GB ]  [ Pyramid Gol]  Rs.  4,482   \n",
       "4         [Redmi 9i ]   [ 64GB ]  [ 4 GB ]          [ Blu]  Rs.  8,999   \n",
       "\n",
       "  Discount  Rating  \n",
       "0       3%    (18)  \n",
       "1       10     (2)  \n",
       "2       9%    (52)  \n",
       "3       15  (9254)  \n",
       "4       10     (8)  "
      ]
     },
     "execution_count": 9,
     "metadata": {},
     "output_type": "execute_result"
    }
   ],
   "source": [
    "# checking dataframe\n",
    "df.shape\n",
    "df.head()"
   ]
  },
  {
   "cell_type": "code",
   "execution_count": 10,
   "metadata": {},
   "outputs": [
    {
     "name": "stdout",
     "output_type": "stream",
     "text": [
      "<class 'pandas.core.frame.DataFrame'>\n",
      "RangeIndex: 60 entries, 0 to 59\n",
      "Data columns (total 7 columns):\n",
      " #   Column       Non-Null Count  Dtype \n",
      "---  ------       --------------  ----- \n",
      " 0   ProductName  60 non-null     object\n",
      " 1   HDD          60 non-null     object\n",
      " 2   RAM          60 non-null     object\n",
      " 3   Color        60 non-null     object\n",
      " 4   Price        60 non-null     object\n",
      " 5   Discount     59 non-null     object\n",
      " 6   Rating       47 non-null     object\n",
      "dtypes: object(7)\n",
      "memory usage: 3.4+ KB\n"
     ]
    }
   ],
   "source": [
    "df.info()"
   ]
  },
  {
   "cell_type": "code",
   "execution_count": 11,
   "metadata": {},
   "outputs": [
    {
     "data": {
      "text/html": [
       "<div>\n",
       "<style scoped>\n",
       "    .dataframe tbody tr th:only-of-type {\n",
       "        vertical-align: middle;\n",
       "    }\n",
       "\n",
       "    .dataframe tbody tr th {\n",
       "        vertical-align: top;\n",
       "    }\n",
       "\n",
       "    .dataframe thead th {\n",
       "        text-align: right;\n",
       "    }\n",
       "</style>\n",
       "<table border=\"1\" class=\"dataframe\">\n",
       "  <thead>\n",
       "    <tr style=\"text-align: right;\">\n",
       "      <th></th>\n",
       "      <th>ProductName</th>\n",
       "      <th>HDD</th>\n",
       "      <th>RAM</th>\n",
       "      <th>Color</th>\n",
       "      <th>Price</th>\n",
       "      <th>Discount</th>\n",
       "      <th>Rating</th>\n",
       "    </tr>\n",
       "  </thead>\n",
       "  <tbody>\n",
       "    <tr>\n",
       "      <th>count</th>\n",
       "      <td>60</td>\n",
       "      <td>60</td>\n",
       "      <td>60</td>\n",
       "      <td>60</td>\n",
       "      <td>60</td>\n",
       "      <td>59</td>\n",
       "      <td>47</td>\n",
       "    </tr>\n",
       "    <tr>\n",
       "      <th>unique</th>\n",
       "      <td>36</td>\n",
       "      <td>14</td>\n",
       "      <td>9</td>\n",
       "      <td>24</td>\n",
       "      <td>32</td>\n",
       "      <td>25</td>\n",
       "      <td>18</td>\n",
       "    </tr>\n",
       "    <tr>\n",
       "      <th>top</th>\n",
       "      <td>[Realme C11 ]</td>\n",
       "      <td>[ 32GB ]</td>\n",
       "      <td>[ 4 GB ]</td>\n",
       "      <td>[ Gree]</td>\n",
       "      <td>Rs.  7,990</td>\n",
       "      <td>10</td>\n",
       "      <td>(1)</td>\n",
       "    </tr>\n",
       "    <tr>\n",
       "      <th>freq</th>\n",
       "      <td>3</td>\n",
       "      <td>14</td>\n",
       "      <td>16</td>\n",
       "      <td>8</td>\n",
       "      <td>6</td>\n",
       "      <td>7</td>\n",
       "      <td>7</td>\n",
       "    </tr>\n",
       "  </tbody>\n",
       "</table>\n",
       "</div>"
      ],
      "text/plain": [
       "          ProductName       HDD       RAM    Color       Price Discount Rating\n",
       "count              60        60        60       60          60       59     47\n",
       "unique             36        14         9       24          32       25     18\n",
       "top     [Realme C11 ]  [ 32GB ]  [ 4 GB ]  [ Gree]  Rs.  7,990       10    (1)\n",
       "freq                3        14        16        8           6        7      7"
      ]
     },
     "execution_count": 11,
     "metadata": {},
     "output_type": "execute_result"
    }
   ],
   "source": [
    "df.describe()"
   ]
  },
  {
   "cell_type": "code",
   "execution_count": 12,
   "metadata": {},
   "outputs": [
    {
     "data": {
      "text/plain": [
       "ProductName     0\n",
       "HDD             0\n",
       "RAM             0\n",
       "Color           0\n",
       "Price           0\n",
       "Discount        1\n",
       "Rating         13\n",
       "dtype: int64"
      ]
     },
     "execution_count": 12,
     "metadata": {},
     "output_type": "execute_result"
    }
   ],
   "source": [
    "df.isnull().sum()"
   ]
  },
  {
   "cell_type": "code",
   "execution_count": 13,
   "metadata": {},
   "outputs": [],
   "source": [
    "#df['ProductName'] = df['ProductName'].str.lstrip('[') # lstrip cut str from left \n",
    "#df['ProductName'] = df['ProductName'].rstrip.str(']') # lstrip cut str from left \n",
    "#df['HDD'] = df['HDD'].str.lstrip('[') # lstrip cut str from left \n",
    "#df['HDD'] = df['HDD'].str.rstrip(']') # lstrip cut str from left \n",
    "#df['RAM'] = df['RAM'].str.lstrip('[') # lstrip cut str from left \n",
    "#df['RAM'] = df['RAM'].str.rstrip(']') # lstrip cut str from left \n",
    "df['Price'] = df['Price'].str.lstrip('Rs.') # lstrip cut str from left \n",
    "df['Price'] = df['Price'].replace({',' : ''}, regex=True)  #regex is regular exp it replace only , with space\n",
    "df['Discount'] = df['Discount'].str.rstrip('%') # lstrip cut str from left \n",
    "df['Rating'] = df['Rating'].str.lstrip('(') # lstrip cut str from left \n",
    "df['Rating'] = df['Rating'].str.rstrip(')') # lstrip cut str from left \n",
    "\n",
    "\n",
    "\n"
   ]
  },
  {
   "cell_type": "code",
   "execution_count": 14,
   "metadata": {},
   "outputs": [
    {
     "name": "stdout",
     "output_type": "stream",
     "text": [
      "          ProductName        HDD       RAM           Color   Price Discount  \\\n",
      "0         [Redmi 9A ]   [ 32GB ]  [ 2 GB ]         [ Gree]    7799        3   \n",
      "1  [Nokia NOKIA 2.3 ]  [ 32 MB ]  [ 2 GB ]         [ Gree]    8999       10   \n",
      "2        [Realme C2 ]   [ 32GB ]  [ 2 GB ]          [ Blu]    8199        9   \n",
      "3       [Xolo Era 2 ]    [ 8GB ]  [ 1 GB ]  [ Pyramid Gol]    4482       15   \n",
      "4         [Redmi 9i ]   [ 64GB ]  [ 4 GB ]          [ Blu]    8999       10   \n",
      "\n",
      "  Rating  \n",
      "0     18  \n",
      "1      2  \n",
      "2     52  \n",
      "3   9254  \n",
      "4      8  \n"
     ]
    },
    {
     "data": {
      "text/plain": [
       "ProductName    object\n",
       "HDD            object\n",
       "RAM            object\n",
       "Color          object\n",
       "Price          object\n",
       "Discount       object\n",
       "Rating         object\n",
       "dtype: object"
      ]
     },
     "execution_count": 14,
     "metadata": {},
     "output_type": "execute_result"
    }
   ],
   "source": [
    "print(df.head())\n",
    "df.dtypes"
   ]
  },
  {
   "cell_type": "code",
   "execution_count": 15,
   "metadata": {},
   "outputs": [
    {
     "data": {
      "text/plain": [
       "ProductName     object\n",
       "HDD             object\n",
       "RAM             object\n",
       "Color           object\n",
       "Price          float64\n",
       "Discount       float64\n",
       "Rating         float64\n",
       "dtype: object"
      ]
     },
     "execution_count": 15,
     "metadata": {},
     "output_type": "execute_result"
    }
   ],
   "source": [
    "# converting features price, discount and rating to float\n",
    "for i in range(4,7,1):\n",
    "    df.iloc[:,i]= df.iloc[:,i].astype(float).copy()\n",
    "df.dtypes"
   ]
  },
  {
   "cell_type": "code",
   "execution_count": 16,
   "metadata": {},
   "outputs": [
    {
     "data": {
      "text/html": [
       "<div>\n",
       "<style scoped>\n",
       "    .dataframe tbody tr th:only-of-type {\n",
       "        vertical-align: middle;\n",
       "    }\n",
       "\n",
       "    .dataframe tbody tr th {\n",
       "        vertical-align: top;\n",
       "    }\n",
       "\n",
       "    .dataframe thead th {\n",
       "        text-align: right;\n",
       "    }\n",
       "</style>\n",
       "<table border=\"1\" class=\"dataframe\">\n",
       "  <thead>\n",
       "    <tr style=\"text-align: right;\">\n",
       "      <th></th>\n",
       "      <th>ProductName</th>\n",
       "      <th>HDD</th>\n",
       "      <th>RAM</th>\n",
       "      <th>Color</th>\n",
       "      <th>Price</th>\n",
       "      <th>Discount</th>\n",
       "      <th>Rating</th>\n",
       "    </tr>\n",
       "  </thead>\n",
       "  <tbody>\n",
       "    <tr>\n",
       "      <th>count</th>\n",
       "      <td>60</td>\n",
       "      <td>60</td>\n",
       "      <td>60</td>\n",
       "      <td>60</td>\n",
       "      <td>60.000000</td>\n",
       "      <td>59.000000</td>\n",
       "      <td>47.000000</td>\n",
       "    </tr>\n",
       "    <tr>\n",
       "      <th>unique</th>\n",
       "      <td>36</td>\n",
       "      <td>14</td>\n",
       "      <td>9</td>\n",
       "      <td>24</td>\n",
       "      <td>NaN</td>\n",
       "      <td>NaN</td>\n",
       "      <td>NaN</td>\n",
       "    </tr>\n",
       "    <tr>\n",
       "      <th>top</th>\n",
       "      <td>[Realme C11 ]</td>\n",
       "      <td>[ 32GB ]</td>\n",
       "      <td>[ 4 GB ]</td>\n",
       "      <td>[ Gree]</td>\n",
       "      <td>NaN</td>\n",
       "      <td>NaN</td>\n",
       "      <td>NaN</td>\n",
       "    </tr>\n",
       "    <tr>\n",
       "      <th>freq</th>\n",
       "      <td>3</td>\n",
       "      <td>14</td>\n",
       "      <td>16</td>\n",
       "      <td>8</td>\n",
       "      <td>NaN</td>\n",
       "      <td>NaN</td>\n",
       "      <td>NaN</td>\n",
       "    </tr>\n",
       "    <tr>\n",
       "      <th>mean</th>\n",
       "      <td>NaN</td>\n",
       "      <td>NaN</td>\n",
       "      <td>NaN</td>\n",
       "      <td>NaN</td>\n",
       "      <td>10731.366667</td>\n",
       "      <td>20.033898</td>\n",
       "      <td>537.319149</td>\n",
       "    </tr>\n",
       "    <tr>\n",
       "      <th>std</th>\n",
       "      <td>NaN</td>\n",
       "      <td>NaN</td>\n",
       "      <td>NaN</td>\n",
       "      <td>NaN</td>\n",
       "      <td>7045.924161</td>\n",
       "      <td>13.607764</td>\n",
       "      <td>1927.030212</td>\n",
       "    </tr>\n",
       "    <tr>\n",
       "      <th>min</th>\n",
       "      <td>NaN</td>\n",
       "      <td>NaN</td>\n",
       "      <td>NaN</td>\n",
       "      <td>NaN</td>\n",
       "      <td>1295.000000</td>\n",
       "      <td>1.000000</td>\n",
       "      <td>1.000000</td>\n",
       "    </tr>\n",
       "    <tr>\n",
       "      <th>25%</th>\n",
       "      <td>NaN</td>\n",
       "      <td>NaN</td>\n",
       "      <td>NaN</td>\n",
       "      <td>NaN</td>\n",
       "      <td>7034.000000</td>\n",
       "      <td>10.000000</td>\n",
       "      <td>5.000000</td>\n",
       "    </tr>\n",
       "    <tr>\n",
       "      <th>50%</th>\n",
       "      <td>NaN</td>\n",
       "      <td>NaN</td>\n",
       "      <td>NaN</td>\n",
       "      <td>NaN</td>\n",
       "      <td>8649.000000</td>\n",
       "      <td>17.000000</td>\n",
       "      <td>13.000000</td>\n",
       "    </tr>\n",
       "    <tr>\n",
       "      <th>75%</th>\n",
       "      <td>NaN</td>\n",
       "      <td>NaN</td>\n",
       "      <td>NaN</td>\n",
       "      <td>NaN</td>\n",
       "      <td>12117.250000</td>\n",
       "      <td>27.000000</td>\n",
       "      <td>67.500000</td>\n",
       "    </tr>\n",
       "    <tr>\n",
       "      <th>max</th>\n",
       "      <td>NaN</td>\n",
       "      <td>NaN</td>\n",
       "      <td>NaN</td>\n",
       "      <td>NaN</td>\n",
       "      <td>34990.000000</td>\n",
       "      <td>64.000000</td>\n",
       "      <td>9254.000000</td>\n",
       "    </tr>\n",
       "  </tbody>\n",
       "</table>\n",
       "</div>"
      ],
      "text/plain": [
       "          ProductName       HDD       RAM    Color         Price   Discount  \\\n",
       "count              60        60        60       60     60.000000  59.000000   \n",
       "unique             36        14         9       24           NaN        NaN   \n",
       "top     [Realme C11 ]  [ 32GB ]  [ 4 GB ]  [ Gree]           NaN        NaN   \n",
       "freq                3        14        16        8           NaN        NaN   \n",
       "mean              NaN       NaN       NaN      NaN  10731.366667  20.033898   \n",
       "std               NaN       NaN       NaN      NaN   7045.924161  13.607764   \n",
       "min               NaN       NaN       NaN      NaN   1295.000000   1.000000   \n",
       "25%               NaN       NaN       NaN      NaN   7034.000000  10.000000   \n",
       "50%               NaN       NaN       NaN      NaN   8649.000000  17.000000   \n",
       "75%               NaN       NaN       NaN      NaN  12117.250000  27.000000   \n",
       "max               NaN       NaN       NaN      NaN  34990.000000  64.000000   \n",
       "\n",
       "             Rating  \n",
       "count     47.000000  \n",
       "unique          NaN  \n",
       "top             NaN  \n",
       "freq            NaN  \n",
       "mean     537.319149  \n",
       "std     1927.030212  \n",
       "min        1.000000  \n",
       "25%        5.000000  \n",
       "50%       13.000000  \n",
       "75%       67.500000  \n",
       "max     9254.000000  "
      ]
     },
     "execution_count": 16,
     "metadata": {},
     "output_type": "execute_result"
    }
   ],
   "source": [
    "df.describe(include=\"all\")"
   ]
  },
  {
   "cell_type": "code",
   "execution_count": 17,
   "metadata": {},
   "outputs": [],
   "source": [
    "# recorded dataframe in .csv file\n",
    "df.to_csv('mobilewebscraping.csv',index=False)"
   ]
  },
  {
   "cell_type": "code",
   "execution_count": 29,
   "metadata": {},
   "outputs": [
    {
     "data": {
      "text/html": [
       "<div>\n",
       "<style scoped>\n",
       "    .dataframe tbody tr th:only-of-type {\n",
       "        vertical-align: middle;\n",
       "    }\n",
       "\n",
       "    .dataframe tbody tr th {\n",
       "        vertical-align: top;\n",
       "    }\n",
       "\n",
       "    .dataframe thead th {\n",
       "        text-align: right;\n",
       "    }\n",
       "</style>\n",
       "<table border=\"1\" class=\"dataframe\">\n",
       "  <thead>\n",
       "    <tr style=\"text-align: right;\">\n",
       "      <th></th>\n",
       "      <th>ProductName</th>\n",
       "      <th>HDD</th>\n",
       "      <th>RAM</th>\n",
       "      <th>Color</th>\n",
       "      <th>Price</th>\n",
       "      <th>Discount</th>\n",
       "      <th>Rating</th>\n",
       "    </tr>\n",
       "  </thead>\n",
       "  <tbody>\n",
       "    <tr>\n",
       "      <th>0</th>\n",
       "      <td>['Redmi 9A ']</td>\n",
       "      <td>[' 32GB ']</td>\n",
       "      <td>[' 2 GB ']</td>\n",
       "      <td>[' Gree']</td>\n",
       "      <td>7799.0</td>\n",
       "      <td>3.0</td>\n",
       "      <td>18.0</td>\n",
       "    </tr>\n",
       "    <tr>\n",
       "      <th>1</th>\n",
       "      <td>['Nokia NOKIA 2.3 ']</td>\n",
       "      <td>[' 32 MB ']</td>\n",
       "      <td>[' 2 GB ']</td>\n",
       "      <td>[' Gree']</td>\n",
       "      <td>8999.0</td>\n",
       "      <td>10.0</td>\n",
       "      <td>2.0</td>\n",
       "    </tr>\n",
       "    <tr>\n",
       "      <th>2</th>\n",
       "      <td>['Realme C2 ']</td>\n",
       "      <td>[' 32GB ']</td>\n",
       "      <td>[' 2 GB ']</td>\n",
       "      <td>[' Blu']</td>\n",
       "      <td>8199.0</td>\n",
       "      <td>9.0</td>\n",
       "      <td>52.0</td>\n",
       "    </tr>\n",
       "    <tr>\n",
       "      <th>3</th>\n",
       "      <td>['Xolo Era 2 ']</td>\n",
       "      <td>[' 8GB ']</td>\n",
       "      <td>[' 1 GB ']</td>\n",
       "      <td>[' Pyramid Gol']</td>\n",
       "      <td>4482.0</td>\n",
       "      <td>15.0</td>\n",
       "      <td>9254.0</td>\n",
       "    </tr>\n",
       "    <tr>\n",
       "      <th>4</th>\n",
       "      <td>['Redmi 9i ']</td>\n",
       "      <td>[' 64GB ']</td>\n",
       "      <td>[' 4 GB ']</td>\n",
       "      <td>[' Blu']</td>\n",
       "      <td>8999.0</td>\n",
       "      <td>10.0</td>\n",
       "      <td>8.0</td>\n",
       "    </tr>\n",
       "  </tbody>\n",
       "</table>\n",
       "</div>"
      ],
      "text/plain": [
       "            ProductName          HDD         RAM             Color   Price  \\\n",
       "0         ['Redmi 9A ']   [' 32GB ']  [' 2 GB ']         [' Gree']  7799.0   \n",
       "1  ['Nokia NOKIA 2.3 ']  [' 32 MB ']  [' 2 GB ']         [' Gree']  8999.0   \n",
       "2        ['Realme C2 ']   [' 32GB ']  [' 2 GB ']          [' Blu']  8199.0   \n",
       "3       ['Xolo Era 2 ']    [' 8GB ']  [' 1 GB ']  [' Pyramid Gol']  4482.0   \n",
       "4         ['Redmi 9i ']   [' 64GB ']  [' 4 GB ']          [' Blu']  8999.0   \n",
       "\n",
       "   Discount  Rating  \n",
       "0       3.0    18.0  \n",
       "1      10.0     2.0  \n",
       "2       9.0    52.0  \n",
       "3      15.0  9254.0  \n",
       "4      10.0     8.0  "
      ]
     },
     "execution_count": 29,
     "metadata": {},
     "output_type": "execute_result"
    }
   ],
   "source": [
    "data=pd.read_csv('mobilewebscraping.csv')\n",
    "data.head()"
   ]
  },
  {
   "cell_type": "code",
   "execution_count": 30,
   "metadata": {},
   "outputs": [
    {
     "data": {
      "text/html": [
       "<div>\n",
       "<style scoped>\n",
       "    .dataframe tbody tr th:only-of-type {\n",
       "        vertical-align: middle;\n",
       "    }\n",
       "\n",
       "    .dataframe tbody tr th {\n",
       "        vertical-align: top;\n",
       "    }\n",
       "\n",
       "    .dataframe thead th {\n",
       "        text-align: right;\n",
       "    }\n",
       "</style>\n",
       "<table border=\"1\" class=\"dataframe\">\n",
       "  <thead>\n",
       "    <tr style=\"text-align: right;\">\n",
       "      <th></th>\n",
       "      <th>ProductName</th>\n",
       "      <th>HDD</th>\n",
       "      <th>RAM</th>\n",
       "      <th>Color</th>\n",
       "      <th>Price</th>\n",
       "      <th>Discount</th>\n",
       "      <th>Rating</th>\n",
       "    </tr>\n",
       "  </thead>\n",
       "  <tbody>\n",
       "    <tr>\n",
       "      <th>count</th>\n",
       "      <td>60</td>\n",
       "      <td>60</td>\n",
       "      <td>60</td>\n",
       "      <td>60</td>\n",
       "      <td>60.000000</td>\n",
       "      <td>59.000000</td>\n",
       "      <td>47.000000</td>\n",
       "    </tr>\n",
       "    <tr>\n",
       "      <th>unique</th>\n",
       "      <td>36</td>\n",
       "      <td>14</td>\n",
       "      <td>9</td>\n",
       "      <td>24</td>\n",
       "      <td>NaN</td>\n",
       "      <td>NaN</td>\n",
       "      <td>NaN</td>\n",
       "    </tr>\n",
       "    <tr>\n",
       "      <th>top</th>\n",
       "      <td>['Coolpad Note 3 Plus ']</td>\n",
       "      <td>[' 32GB ']</td>\n",
       "      <td>[' 4 GB ']</td>\n",
       "      <td>[' Gree']</td>\n",
       "      <td>NaN</td>\n",
       "      <td>NaN</td>\n",
       "      <td>NaN</td>\n",
       "    </tr>\n",
       "    <tr>\n",
       "      <th>freq</th>\n",
       "      <td>3</td>\n",
       "      <td>14</td>\n",
       "      <td>16</td>\n",
       "      <td>8</td>\n",
       "      <td>NaN</td>\n",
       "      <td>NaN</td>\n",
       "      <td>NaN</td>\n",
       "    </tr>\n",
       "    <tr>\n",
       "      <th>mean</th>\n",
       "      <td>NaN</td>\n",
       "      <td>NaN</td>\n",
       "      <td>NaN</td>\n",
       "      <td>NaN</td>\n",
       "      <td>10731.366667</td>\n",
       "      <td>20.033898</td>\n",
       "      <td>537.319149</td>\n",
       "    </tr>\n",
       "    <tr>\n",
       "      <th>std</th>\n",
       "      <td>NaN</td>\n",
       "      <td>NaN</td>\n",
       "      <td>NaN</td>\n",
       "      <td>NaN</td>\n",
       "      <td>7045.924161</td>\n",
       "      <td>13.607764</td>\n",
       "      <td>1927.030212</td>\n",
       "    </tr>\n",
       "    <tr>\n",
       "      <th>min</th>\n",
       "      <td>NaN</td>\n",
       "      <td>NaN</td>\n",
       "      <td>NaN</td>\n",
       "      <td>NaN</td>\n",
       "      <td>1295.000000</td>\n",
       "      <td>1.000000</td>\n",
       "      <td>1.000000</td>\n",
       "    </tr>\n",
       "    <tr>\n",
       "      <th>25%</th>\n",
       "      <td>NaN</td>\n",
       "      <td>NaN</td>\n",
       "      <td>NaN</td>\n",
       "      <td>NaN</td>\n",
       "      <td>7034.000000</td>\n",
       "      <td>10.000000</td>\n",
       "      <td>5.000000</td>\n",
       "    </tr>\n",
       "    <tr>\n",
       "      <th>50%</th>\n",
       "      <td>NaN</td>\n",
       "      <td>NaN</td>\n",
       "      <td>NaN</td>\n",
       "      <td>NaN</td>\n",
       "      <td>8649.000000</td>\n",
       "      <td>17.000000</td>\n",
       "      <td>13.000000</td>\n",
       "    </tr>\n",
       "    <tr>\n",
       "      <th>75%</th>\n",
       "      <td>NaN</td>\n",
       "      <td>NaN</td>\n",
       "      <td>NaN</td>\n",
       "      <td>NaN</td>\n",
       "      <td>12117.250000</td>\n",
       "      <td>27.000000</td>\n",
       "      <td>67.500000</td>\n",
       "    </tr>\n",
       "    <tr>\n",
       "      <th>max</th>\n",
       "      <td>NaN</td>\n",
       "      <td>NaN</td>\n",
       "      <td>NaN</td>\n",
       "      <td>NaN</td>\n",
       "      <td>34990.000000</td>\n",
       "      <td>64.000000</td>\n",
       "      <td>9254.000000</td>\n",
       "    </tr>\n",
       "  </tbody>\n",
       "</table>\n",
       "</div>"
      ],
      "text/plain": [
       "                     ProductName         HDD         RAM      Color  \\\n",
       "count                         60          60          60         60   \n",
       "unique                        36          14           9         24   \n",
       "top     ['Coolpad Note 3 Plus ']  [' 32GB ']  [' 4 GB ']  [' Gree']   \n",
       "freq                           3          14          16          8   \n",
       "mean                         NaN         NaN         NaN        NaN   \n",
       "std                          NaN         NaN         NaN        NaN   \n",
       "min                          NaN         NaN         NaN        NaN   \n",
       "25%                          NaN         NaN         NaN        NaN   \n",
       "50%                          NaN         NaN         NaN        NaN   \n",
       "75%                          NaN         NaN         NaN        NaN   \n",
       "max                          NaN         NaN         NaN        NaN   \n",
       "\n",
       "               Price   Discount       Rating  \n",
       "count      60.000000  59.000000    47.000000  \n",
       "unique           NaN        NaN          NaN  \n",
       "top              NaN        NaN          NaN  \n",
       "freq             NaN        NaN          NaN  \n",
       "mean    10731.366667  20.033898   537.319149  \n",
       "std      7045.924161  13.607764  1927.030212  \n",
       "min      1295.000000   1.000000     1.000000  \n",
       "25%      7034.000000  10.000000     5.000000  \n",
       "50%      8649.000000  17.000000    13.000000  \n",
       "75%     12117.250000  27.000000    67.500000  \n",
       "max     34990.000000  64.000000  9254.000000  "
      ]
     },
     "execution_count": 30,
     "metadata": {},
     "output_type": "execute_result"
    }
   ],
   "source": [
    "data.describe(include='all')"
   ]
  },
  {
   "cell_type": "markdown",
   "metadata": {},
   "source": [
    "# Analysing Null values"
   ]
  },
  {
   "cell_type": "code",
   "execution_count": 31,
   "metadata": {},
   "outputs": [
    {
     "data": {
      "text/plain": [
       "ProductName     0\n",
       "HDD             0\n",
       "RAM             0\n",
       "Color           0\n",
       "Price           0\n",
       "Discount        1\n",
       "Rating         13\n",
       "dtype: int64"
      ]
     },
     "execution_count": 31,
     "metadata": {},
     "output_type": "execute_result"
    }
   ],
   "source": [
    "data.isnull().sum()"
   ]
  },
  {
   "cell_type": "code",
   "execution_count": 32,
   "metadata": {},
   "outputs": [
    {
     "data": {
      "text/plain": [
       "<AxesSubplot:>"
      ]
     },
     "execution_count": 32,
     "metadata": {},
     "output_type": "execute_result"
    },
    {
     "data": {
      "image/png": "[encoded data removed]",
      "text/plain": [
       "<Figure size 432x288 with 2 Axes>"
      ]
     },
     "metadata": {
      "needs_background": "light"
     },
     "output_type": "display_data"
    }
   ],
   "source": [
    "sbn.heatmap(data.isnull(),cbar=True)"
   ]
  },
  {
   "cell_type": "code",
   "execution_count": 22,
   "metadata": {},
   "outputs": [
    {
     "name": "stdout",
     "output_type": "stream",
     "text": [
      "Missing Discount % :1.67\n",
      "###################################################################\n",
      "Rows with Disount as NULL\n",
      "            ProductName         HDD         RAM      Color   Price  Discount  \\\n",
      "59  ['Lenovo K8 Plus ']  [' 32GB ']  [' 3 GB ']  [' Blac']  7990.0       NaN   \n",
      "\n",
      "    Rating  \n",
      "59     NaN  \n",
      "###################################################################\n",
      "Missing Rating % :21.67\n",
      "###################################################################\n",
      "Rows with Rating as NULL\n",
      "                   ProductName                      HDD  \\\n",
      "47  ['Lenovo Lenovo K8 Plus ']          ['Venom Black']   \n",
      "48          ['Redmi Note 7s ']              [' 64 GB ']   \n",
      "49          ['INFINIX Hot 7 ']               [' 64GB ']   \n",
      "50               ['Nokia C3 ']               [' 16GB ']   \n",
      "51           ['itel A25 pro ']               [' 32GB ']   \n",
      "52    ['Coolpad Note 3 Plus ']               [' 16GB ']   \n",
      "53          ['Redmi 9 Power ']              [' 128GB ']   \n",
      "54     ['Micromax X419  Blac']  ['Micromax X419  Blac']   \n",
      "55                ['OPPO A7 ']               [' 64GB ']   \n",
      "56             ['Realme C11 ']               [' 32GB ']   \n",
      "57              ['Gionee A1 ']              [' 64 MB ']   \n",
      "58         ['Oppo Reno3 Pro ']              [' 256GB ']   \n",
      "59         ['Lenovo K8 Plus ']               [' 32GB ']   \n",
      "\n",
      "                        RAM                    Color    Price  Discount  \\\n",
      "47               [' 32 GB']                   ['  ']   7990.0      27.0   \n",
      "48               [' 4 GB ']                [' Blac']  10990.0       1.0   \n",
      "49               [' 4 GB ']       [' Midnight Blac']   9889.0      18.0   \n",
      "50               [' 2 GB ']            [' Sand Gol']   7000.0      10.0   \n",
      "51               [' 2 GB ']                [' Gree']   5399.0      38.0   \n",
      "52               [' 3 GB ']                 [' Gol']   5900.0      19.0   \n",
      "53               [' 4 GB ']                [' Blac']  12999.0      34.0   \n",
      "54  ['Micromax X419  Blac']  ['Micromax X419  Blac']   1295.0      32.0   \n",
      "55               [' 4 GB ']                 [' Gol']  12990.0       8.0   \n",
      "56               [' 2 GB ']           [' Rich Gree']   8299.0      64.0   \n",
      "57               [' 4 GB ']                 [' Gol']   7999.0      22.0   \n",
      "58               [' 8 GB ']       [' Midnight Blac']  27990.0      20.0   \n",
      "59               [' 3 GB ']                [' Blac']   7990.0       NaN   \n",
      "\n",
      "    Rating  \n",
      "47     NaN  \n",
      "48     NaN  \n",
      "49     NaN  \n",
      "50     NaN  \n",
      "51     NaN  \n",
      "52     NaN  \n",
      "53     NaN  \n",
      "54     NaN  \n",
      "55     NaN  \n",
      "56     NaN  \n",
      "57     NaN  \n",
      "58     NaN  \n",
      "59     NaN  \n",
      "###################################################################\n"
     ]
    }
   ],
   "source": [
    "# Rows where Discount is null\n",
    "print('Missing Discount % :{0:.2f}'.format(data.Discount.isnull().sum()/len(data)*100))  #percetage of null values in Age column\n",
    "print(\"###################################################################\")\n",
    "print(\"Rows with Disount as NULL\")\n",
    "dfn=data[data.Discount.isnull()]\n",
    "print(dfn)\n",
    "print(\"###################################################################\")\n",
    "print('Missing Rating % :{0:.2f}'.format(data.Rating.isnull().sum()/len(data)*100))   #percetage of null values in Embarked column\n",
    "print(\"###################################################################\")\n",
    "print(\"Rows with Rating as NULL\")\n",
    "dfn=data[data.Rating.isnull()]\n",
    "print(dfn)\n",
    "print(\"###################################################################\")"
   ]
  },
  {
   "cell_type": "code",
   "execution_count": 33,
   "metadata": {},
   "outputs": [
    {
     "data": {
      "text/plain": [
       "<AxesSubplot:xlabel='Discount', ylabel='Count'>"
      ]
     },
     "execution_count": 33,
     "metadata": {},
     "output_type": "execute_result"
    },
    {
     "data": {
      "image/png": "[encoded data removed]",
      "text/plain": [
       "<Figure size 432x288 with 1 Axes>"
      ]
     },
     "metadata": {
      "needs_background": "light"
     },
     "output_type": "display_data"
    }
   ],
   "source": [
    "sbn.histplot(data.Discount,kde=True)"
   ]
  },
  {
   "cell_type": "code",
   "execution_count": 34,
   "metadata": {},
   "outputs": [
    {
     "name": "stdout",
     "output_type": "stream",
     "text": [
      "0\n"
     ]
    },
    {
     "data": {
      "text/plain": [
       "<AxesSubplot:xlabel='Discount', ylabel='Count'>"
      ]
     },
     "execution_count": 34,
     "metadata": {},
     "output_type": "execute_result"
    },
    {
     "data": {
      "image/png": "[encoded data removed]",
      "text/plain": [
       "<Figure size 432x288 with 1 Axes>"
      ]
     },
     "metadata": {
      "needs_background": "light"
     },
     "output_type": "display_data"
    }
   ],
   "source": [
    "data['NewDiscount']=data.Discount.fillna(data.Discount.mean())\n",
    "data.head()\n",
    "print(data.NewDiscount.isnull().sum())\n",
    "sbn.histplot(data.Discount,kde=True)\n",
    "sbn.histplot(data.NewDiscount,kde=True,color=\"red\")"
   ]
  },
  {
   "cell_type": "markdown",
   "metadata": {},
   "source": [
    "# The skewness of Discount(Blue) and NewDiscount(Red) is not much varied, distibution is retained so we go with this imputation"
   ]
  },
  {
   "cell_type": "code",
   "execution_count": 35,
   "metadata": {},
   "outputs": [
    {
     "data": {
      "text/plain": [
       "<AxesSubplot:xlabel='Rating', ylabel='Count'>"
      ]
     },
     "execution_count": 35,
     "metadata": {},
     "output_type": "execute_result"
    },
    {
     "data": {
      "image/png": "[encoded data removed]",
      "text/plain": [
       "<Figure size 432x288 with 1 Axes>"
      ]
     },
     "metadata": {
      "needs_background": "light"
     },
     "output_type": "display_data"
    }
   ],
   "source": [
    "# Filling missing values in Rating column\n",
    "sbn.histplot(data.Rating,kde=True)"
   ]
  },
  {
   "cell_type": "code",
   "execution_count": 36,
   "metadata": {},
   "outputs": [
    {
     "name": "stdout",
     "output_type": "stream",
     "text": [
      "0    1.0\n",
      "dtype: float64\n",
      "<class 'pandas.core.frame.DataFrame'>\n",
      "RangeIndex: 60 entries, 0 to 59\n",
      "Data columns (total 8 columns):\n",
      " #   Column       Non-Null Count  Dtype  \n",
      "---  ------       --------------  -----  \n",
      " 0   ProductName  60 non-null     object \n",
      " 1   HDD          60 non-null     object \n",
      " 2   RAM          60 non-null     object \n",
      " 3   Color        60 non-null     object \n",
      " 4   Price        60 non-null     float64\n",
      " 5   Discount     59 non-null     float64\n",
      " 6   Rating       47 non-null     float64\n",
      " 7   NewDiscount  60 non-null     float64\n",
      "dtypes: float64(4), object(4)\n",
      "memory usage: 3.9+ KB\n"
     ]
    }
   ],
   "source": [
    "# Most of the mobiles are having rating 1\n",
    "# Rating is categorical column, so we fill null values with mod value\n",
    "print(data.Rating.mode())\n",
    "data.info()\n"
   ]
  },
  {
   "cell_type": "code",
   "execution_count": 37,
   "metadata": {},
   "outputs": [
    {
     "name": "stdout",
     "output_type": "stream",
     "text": [
      "0    1.0\n",
      "dtype: float64\n",
      "<class 'pandas.core.frame.DataFrame'>\n",
      "RangeIndex: 60 entries, 0 to 59\n",
      "Data columns (total 9 columns):\n",
      " #   Column       Non-Null Count  Dtype  \n",
      "---  ------       --------------  -----  \n",
      " 0   ProductName  60 non-null     object \n",
      " 1   HDD          60 non-null     object \n",
      " 2   RAM          60 non-null     object \n",
      " 3   Color        60 non-null     object \n",
      " 4   Price        60 non-null     float64\n",
      " 5   Discount     59 non-null     float64\n",
      " 6   Rating       47 non-null     float64\n",
      " 7   NewDiscount  60 non-null     float64\n",
      " 8   NewRating    60 non-null     float64\n",
      "dtypes: float64(5), object(4)\n",
      "memory usage: 4.3+ KB\n"
     ]
    }
   ],
   "source": [
    "m=data.Rating.mode()\n",
    "print(m)\n",
    "data['NewRating']=data.Rating.fillna(1.0)\n",
    "data.info()"
   ]
  },
  {
   "cell_type": "code",
   "execution_count": 38,
   "metadata": {},
   "outputs": [
    {
     "name": "stdout",
     "output_type": "stream",
     "text": [
      "<class 'pandas.core.frame.DataFrame'>\n",
      "RangeIndex: 60 entries, 0 to 59\n",
      "Data columns (total 7 columns):\n",
      " #   Column       Non-Null Count  Dtype  \n",
      "---  ------       --------------  -----  \n",
      " 0   ProductName  60 non-null     object \n",
      " 1   HDD          60 non-null     object \n",
      " 2   RAM          60 non-null     object \n",
      " 3   Color        60 non-null     object \n",
      " 4   Price        60 non-null     float64\n",
      " 5   NewDiscount  60 non-null     float64\n",
      " 6   NewRating    60 non-null     float64\n",
      "dtypes: float64(3), object(4)\n",
      "memory usage: 3.4+ KB\n"
     ]
    }
   ],
   "source": [
    "#Drop  Discount and Rating which are having null values\n",
    "data.drop(['Discount','Rating'],inplace=True,axis=1)\n",
    "data.info()"
   ]
  },
  {
   "cell_type": "markdown",
   "metadata": {},
   "source": [
    "# Treating outliers\n",
    "### Numeric Columns"
   ]
  },
  {
   "cell_type": "code",
   "execution_count": 39,
   "metadata": {},
   "outputs": [
    {
     "data": {
      "text/plain": [
       "<AxesSubplot:>"
      ]
     },
     "execution_count": 39,
     "metadata": {},
     "output_type": "execute_result"
    },
    {
     "data": {
      "image/png": "[encoded data removed]",
      "text/plain": [
       "<Figure size 1080x1080 with 1 Axes>"
      ]
     },
     "metadata": {},
     "output_type": "display_data"
    }
   ],
   "source": [
    "sbn.set_style(\"whitegrid\")\n",
    "plt.figure(figsize=(15,15))\n",
    "sbn.boxplot(data=data,orient='h')\n"
   ]
  },
  {
   "cell_type": "code",
   "execution_count": 40,
   "metadata": {},
   "outputs": [
    {
     "name": "stdout",
     "output_type": "stream",
     "text": [
      "                 ProductName          HDD         RAM               Color  \\\n",
      "13       ['Oppo Reno3 Pro ']  [' 256GB ']  [' 8 GB ']  [' Midnight Blac']   \n",
      "15  ['Blackberry Passport ']   [' 32GB ']  [' 3 GB ']           [' Blac']   \n",
      "32      ['Oppo Reno 4 Pro ']  [' 128GB ']  [' 8 GB ']    [' Starry Nigh']   \n",
      "37      ['Oppo Reno 4 Pro ']  [' 128GB ']  [' 8 GB ']     [' Silky Whit']   \n",
      "44         ['Oppo F19 Pro ']  [' 128GB ']  [' 8 GB ']     [' Fluid Blac']   \n",
      "58       ['Oppo Reno3 Pro ']  [' 256GB ']  [' 8 GB ']  [' Midnight Blac']   \n",
      "\n",
      "      Price  NewDiscount  NewRating  \n",
      "13  27990.0         22.0     3429.0  \n",
      "15  24999.0          8.0        1.0  \n",
      "32  34990.0         21.0     9254.0  \n",
      "37  34990.0         30.0      103.0  \n",
      "44  21490.0         11.0        5.0  \n",
      "58  27990.0         20.0        1.0  \n"
     ]
    }
   ],
   "source": [
    "# Printing outliers for price \n",
    "# Printing the rows where price >18000\n",
    "print(data[data.Price>18000])"
   ]
  },
  {
   "cell_type": "code",
   "execution_count": 51,
   "metadata": {},
   "outputs": [
    {
     "name": "stdout",
     "output_type": "stream",
     "text": [
      "[\"[' 32GB ']\" \"[' 32 MB ']\" \"[' 8GB ']\" \"[' 64GB ']\" \"[' 16GB ']\"\n",
      " \"[' 256GB ']\" \"[' 128GB ']\" \"['4GB RAM']\" \"[' 64 MB ']\" \"[' 2 GB ']\"]\n"
     ]
    },
    {
     "data": {
      "text/plain": [
       "(49, 7)"
      ]
     },
     "execution_count": 51,
     "metadata": {},
     "output_type": "execute_result"
    }
   ],
   "source": [
    "# Droping rows with different data\n",
    "print(data.HDD.unique())\n",
    "#data['RAM']=data.RAM.fillna(\"[1 GB]\",inplace=True,axis=0)\n",
    "data=data[data.HDD !=\"['4GB RAM']\"]\n",
    "#data.drop(data.HDD[\"32 GB\"],inplace=True,axis=0)\n",
    "data.shape\n"
   ]
  },
  {
   "cell_type": "code",
   "execution_count": 52,
   "metadata": {},
   "outputs": [
    {
     "data": {
      "text/plain": [
       "array([\"[' 32GB ']\", \"[' 32 MB ']\", \"[' 8GB ']\", \"[' 64GB ']\",\n",
       "       \"[' 16GB ']\", \"[' 256GB ']\", \"[' 128GB ']\", \"[' 64 MB ']\",\n",
       "       \"[' 2 GB ']\"], dtype=object)"
      ]
     },
     "execution_count": 52,
     "metadata": {},
     "output_type": "execute_result"
    }
   ],
   "source": [
    "data.HDD.unique()"
   ]
  },
  {
   "cell_type": "code",
   "execution_count": 53,
   "metadata": {},
   "outputs": [
    {
     "name": "stdout",
     "output_type": "stream",
     "text": [
      "[\"[' 2 GB ']\" \"[' 1 GB ']\" \"[' 4 GB ']\" \"[' 3 GB ']\" \"[' 6 GB ']\"\n",
      " \"[' 8 GB ']\"]\n"
     ]
    },
    {
     "data": {
      "text/plain": [
       "(49, 7)"
      ]
     },
     "execution_count": 53,
     "metadata": {},
     "output_type": "execute_result"
    }
   ],
   "source": [
    "print(data.RAM.unique())\n",
    "data.shape"
   ]
  },
  {
   "cell_type": "markdown",
   "metadata": {},
   "source": [
    "- Outliers seems to exist in price column  \n",
    "- But we cannot cosider them outliers because their are mobile phones in this price range"
   ]
  },
  {
   "cell_type": "markdown",
   "metadata": {},
   "source": [
    "# Exploratory Data Analysis"
   ]
  },
  {
   "cell_type": "code",
   "execution_count": 54,
   "metadata": {
    "scrolled": true
   },
   "outputs": [
    {
     "data": {
      "text/html": [
       "<div>\n",
       "<style scoped>\n",
       "    .dataframe tbody tr th:only-of-type {\n",
       "        vertical-align: middle;\n",
       "    }\n",
       "\n",
       "    .dataframe tbody tr th {\n",
       "        vertical-align: top;\n",
       "    }\n",
       "\n",
       "    .dataframe thead th {\n",
       "        text-align: right;\n",
       "    }\n",
       "</style>\n",
       "<table border=\"1\" class=\"dataframe\">\n",
       "  <thead>\n",
       "    <tr style=\"text-align: right;\">\n",
       "      <th></th>\n",
       "      <th>ProductName</th>\n",
       "      <th>HDD</th>\n",
       "      <th>RAM</th>\n",
       "      <th>Color</th>\n",
       "      <th>Price</th>\n",
       "      <th>NewDiscount</th>\n",
       "      <th>NewRating</th>\n",
       "    </tr>\n",
       "  </thead>\n",
       "  <tbody>\n",
       "    <tr>\n",
       "      <th>count</th>\n",
       "      <td>49</td>\n",
       "      <td>49</td>\n",
       "      <td>49</td>\n",
       "      <td>49</td>\n",
       "      <td>49.000000</td>\n",
       "      <td>49.000000</td>\n",
       "      <td>49.000000</td>\n",
       "    </tr>\n",
       "    <tr>\n",
       "      <th>unique</th>\n",
       "      <td>31</td>\n",
       "      <td>9</td>\n",
       "      <td>6</td>\n",
       "      <td>21</td>\n",
       "      <td>NaN</td>\n",
       "      <td>NaN</td>\n",
       "      <td>NaN</td>\n",
       "    </tr>\n",
       "    <tr>\n",
       "      <th>top</th>\n",
       "      <td>['Coolpad Note 3 Plus ']</td>\n",
       "      <td>[' 32GB ']</td>\n",
       "      <td>[' 2 GB ']</td>\n",
       "      <td>[' Gree']</td>\n",
       "      <td>NaN</td>\n",
       "      <td>NaN</td>\n",
       "      <td>NaN</td>\n",
       "    </tr>\n",
       "    <tr>\n",
       "      <th>freq</th>\n",
       "      <td>3</td>\n",
       "      <td>14</td>\n",
       "      <td>15</td>\n",
       "      <td>8</td>\n",
       "      <td>NaN</td>\n",
       "      <td>NaN</td>\n",
       "      <td>NaN</td>\n",
       "    </tr>\n",
       "    <tr>\n",
       "      <th>mean</th>\n",
       "      <td>NaN</td>\n",
       "      <td>NaN</td>\n",
       "      <td>NaN</td>\n",
       "      <td>NaN</td>\n",
       "      <td>11449.959184</td>\n",
       "      <td>20.306814</td>\n",
       "      <td>489.897959</td>\n",
       "    </tr>\n",
       "    <tr>\n",
       "      <th>std</th>\n",
       "      <td>NaN</td>\n",
       "      <td>NaN</td>\n",
       "      <td>NaN</td>\n",
       "      <td>NaN</td>\n",
       "      <td>7348.836847</td>\n",
       "      <td>13.741959</td>\n",
       "      <td>1892.673982</td>\n",
       "    </tr>\n",
       "    <tr>\n",
       "      <th>min</th>\n",
       "      <td>NaN</td>\n",
       "      <td>NaN</td>\n",
       "      <td>NaN</td>\n",
       "      <td>NaN</td>\n",
       "      <td>4482.000000</td>\n",
       "      <td>3.000000</td>\n",
       "      <td>1.000000</td>\n",
       "    </tr>\n",
       "    <tr>\n",
       "      <th>25%</th>\n",
       "      <td>NaN</td>\n",
       "      <td>NaN</td>\n",
       "      <td>NaN</td>\n",
       "      <td>NaN</td>\n",
       "      <td>7799.000000</td>\n",
       "      <td>10.000000</td>\n",
       "      <td>1.000000</td>\n",
       "    </tr>\n",
       "    <tr>\n",
       "      <th>50%</th>\n",
       "      <td>NaN</td>\n",
       "      <td>NaN</td>\n",
       "      <td>NaN</td>\n",
       "      <td>NaN</td>\n",
       "      <td>8999.000000</td>\n",
       "      <td>17.000000</td>\n",
       "      <td>6.000000</td>\n",
       "    </tr>\n",
       "    <tr>\n",
       "      <th>75%</th>\n",
       "      <td>NaN</td>\n",
       "      <td>NaN</td>\n",
       "      <td>NaN</td>\n",
       "      <td>NaN</td>\n",
       "      <td>12990.000000</td>\n",
       "      <td>25.000000</td>\n",
       "      <td>59.000000</td>\n",
       "    </tr>\n",
       "    <tr>\n",
       "      <th>max</th>\n",
       "      <td>NaN</td>\n",
       "      <td>NaN</td>\n",
       "      <td>NaN</td>\n",
       "      <td>NaN</td>\n",
       "      <td>34990.000000</td>\n",
       "      <td>64.000000</td>\n",
       "      <td>9254.000000</td>\n",
       "    </tr>\n",
       "  </tbody>\n",
       "</table>\n",
       "</div>"
      ],
      "text/plain": [
       "                     ProductName         HDD         RAM      Color  \\\n",
       "count                         49          49          49         49   \n",
       "unique                        31           9           6         21   \n",
       "top     ['Coolpad Note 3 Plus ']  [' 32GB ']  [' 2 GB ']  [' Gree']   \n",
       "freq                           3          14          15          8   \n",
       "mean                         NaN         NaN         NaN        NaN   \n",
       "std                          NaN         NaN         NaN        NaN   \n",
       "min                          NaN         NaN         NaN        NaN   \n",
       "25%                          NaN         NaN         NaN        NaN   \n",
       "50%                          NaN         NaN         NaN        NaN   \n",
       "75%                          NaN         NaN         NaN        NaN   \n",
       "max                          NaN         NaN         NaN        NaN   \n",
       "\n",
       "               Price  NewDiscount    NewRating  \n",
       "count      49.000000    49.000000    49.000000  \n",
       "unique           NaN          NaN          NaN  \n",
       "top              NaN          NaN          NaN  \n",
       "freq             NaN          NaN          NaN  \n",
       "mean    11449.959184    20.306814   489.897959  \n",
       "std      7348.836847    13.741959  1892.673982  \n",
       "min      4482.000000     3.000000     1.000000  \n",
       "25%      7799.000000    10.000000     1.000000  \n",
       "50%      8999.000000    17.000000     6.000000  \n",
       "75%     12990.000000    25.000000    59.000000  \n",
       "max     34990.000000    64.000000  9254.000000  "
      ]
     },
     "execution_count": 54,
     "metadata": {},
     "output_type": "execute_result"
    }
   ],
   "source": [
    "data.describe(include=\"all\")"
   ]
  },
  {
   "cell_type": "markdown",
   "metadata": {},
   "source": [
    "- Inference : In traning Data set:\n",
    "* Coolpad Note 3 Plus is most buyed mobile \n",
    "* Hard Disk prefered is 32GB\n",
    "* RAM most frequently buyed is 2GB \n",
    "* Most preferd color is Green\n",
    "* Mobiles in range of Rs.10000-12000 range are mostly buyed  "
   ]
  },
  {
   "cell_type": "markdown",
   "metadata": {},
   "source": [
    "#### Taget variable in this data set is price "
   ]
  },
  {
   "cell_type": "markdown",
   "metadata": {},
   "source": [
    "### Analyse the relation between target variables and the categorical variables in the dataset\n",
    "### The categorical variables considered are HDD,RAM,Color"
   ]
  },
  {
   "cell_type": "code",
   "execution_count": 55,
   "metadata": {},
   "outputs": [
    {
     "data": {
      "text/plain": [
       "<AxesSubplot:xlabel='Price', ylabel='count'>"
      ]
     },
     "execution_count": 55,
     "metadata": {},
     "output_type": "execute_result"
    },
    {
     "data": {
      "image/png": "[encoded data removed]",
      "text/plain": [
       "<Figure size 1440x432 with 1 Axes>"
      ]
     },
     "metadata": {},
     "output_type": "display_data"
    }
   ],
   "source": [
    "plt.figure(figsize=(20,6))\n",
    "sbn.countplot(x='Price',data=data)   #factorplot()\n"
   ]
  },
  {
   "cell_type": "code",
   "execution_count": 68,
   "metadata": {},
   "outputs": [
    {
     "data": {
      "image/png": "[encoded data removed]",
      "text/plain": [
       "<Figure size 1080x432 with 1 Axes>"
      ]
     },
     "metadata": {},
     "output_type": "display_data"
    }
   ],
   "source": [
    "plt.figure(figsize=(15,6))\n",
    "sbn.scatterplot(x='Price',y='RAM',data=data)   \n",
    "sbn.scatterplot(x='Price',y='HDD',data=data)\n",
    "plt.show()"
   ]
  },
  {
   "cell_type": "code",
   "execution_count": null,
   "metadata": {},
   "outputs": [],
   "source": [
    "# Most Prefered Mobiles are having 2Gb or 6GB Ram and 32 GB to 64 Gb HDD "
   ]
  },
  {
   "cell_type": "code",
   "execution_count": 74,
   "metadata": {},
   "outputs": [
    {
     "name": "stdout",
     "output_type": "stream",
     "text": [
      "[\"[' Gree']\" \"[' Blu']\" \"[' Pyramid Gol']\" \"[' Blac']\" \"[' Mist Blu']\"\n",
      " \"[' Gol']\" \"[' Rich Gre']\" \"[' Champagn']\" \"[' Midnight Blac']\"\n",
      " \"[' Silve']\" \"[' Carbon Blac']\" \"[' Aurora Blu']\" \"[' Rich Gree']\"\n",
      " \"[' Purpl']\" \"[' Starry Nigh']\" \"[' Aqua Blu']\" \"[' White Gol']\"\n",
      " \"[' Whit']\" \"[' Silky Whit']\" \"[' Fluid Blac']\" \"[' Sand Gol']\"]\n"
     ]
    },
    {
     "data": {
      "text/plain": [
       "([<matplotlib.patches.Wedge at 0x3e78d20c40>,\n",
       "  <matplotlib.patches.Wedge at 0x3e78d2d370>,\n",
       "  <matplotlib.patches.Wedge at 0x3e78d2da00>,\n",
       "  <matplotlib.patches.Wedge at 0x3e78d3b0d0>,\n",
       "  <matplotlib.patches.Wedge at 0x3e78d3b760>,\n",
       "  <matplotlib.patches.Wedge at 0x3e78d3bdf0>,\n",
       "  <matplotlib.patches.Wedge at 0x3e78d4a4c0>,\n",
       "  <matplotlib.patches.Wedge at 0x3e78d4ab50>,\n",
       "  <matplotlib.patches.Wedge at 0x3e78d57220>,\n",
       "  <matplotlib.patches.Wedge at 0x3e78d578b0>,\n",
       "  <matplotlib.patches.Wedge at 0x3e78d05970>,\n",
       "  <matplotlib.patches.Wedge at 0x3e78d645e0>,\n",
       "  <matplotlib.patches.Wedge at 0x3e78d64c70>,\n",
       "  <matplotlib.patches.Wedge at 0x3e78d72340>,\n",
       "  <matplotlib.patches.Wedge at 0x3e78d729d0>,\n",
       "  <matplotlib.patches.Wedge at 0x3e78d800a0>,\n",
       "  <matplotlib.patches.Wedge at 0x3e78d80730>,\n",
       "  <matplotlib.patches.Wedge at 0x3e78d80dc0>,\n",
       "  <matplotlib.patches.Wedge at 0x3e78d8e490>,\n",
       "  <matplotlib.patches.Wedge at 0x3e78d8eb20>,\n",
       "  <matplotlib.patches.Wedge at 0x3e78d9c160>],\n",
       " [Text(0.958450580208442, 0.539789297131854, \"[' Gree']\"),\n",
       "  Text(0.10562532954450657, 1.0949170241432062, \"[' Blu']\"),\n",
       "  Text(-0.7395309979586672, 0.81430577982614, \"[' Pyramid Gol']\"),\n",
       "  Text(-1.0797150772102193, 0.21027446836202016, \"[' Blac']\"),\n",
       "  Text(-1.0797150698274751, -0.2102745062708528, \"[' Mist Blu']\"),\n",
       "  Text(-0.9910657507028898, -0.47727212131415947, \"[' Gol']\"),\n",
       "  Text(-0.837590551992046, -0.7130512374392599, \"[' Rich Gre']\"),\n",
       "  Text(-0.6293283280737275, -0.9021894787038514, \"[' Champagn']\"),\n",
       "  Text(-0.37990156750686266, -1.0323152614418858, \"[' Midnight Blac']\"),\n",
       "  Text(-0.10562534235869807, -1.0949170229070366, \"[' Silve']\"),\n",
       "  Text(0.17555986508468452, -1.0858999649007488, \"[' Carbon Blac']\"),\n",
       "  Text(0.3799015373030086, -1.032315272557183, \"[' Aurora Blu']\"),\n",
       "  Text(0.5087920953891228, -0.9752592494662873, \"[' Rich Gree']\"),\n",
       "  Text(0.6293283016771415, -0.9021894971169666, \"[' Purpl']\"),\n",
       "  Text(0.7395309550732105, -0.8143058187735767, \"[' Starry Nigh']\"),\n",
       "  Text(0.8375905311293346, -0.713051261945787, \"[' Aqua Blu']\"),\n",
       "  Text(0.9218968943835643, -0.6000884235893404, \"[' White Gol']\"),\n",
       "  Text(0.9910657367386887, -0.4772721503111201, \"[' Whit']\"),\n",
       "  Text(1.043961307761991, -0.34661908184038864, \"[' Silky Whit']\"),\n",
       "  Text(1.079715063675187, -0.21027453786154648, \"[' Fluid Blac']\"),\n",
       "  Text(1.0977399288186729, -0.07047729192566367, \"[' Sand Gol']\")],\n",
       " [Text(0.5227912255682411, 0.294430525708284, '16.33'),\n",
       "  Text(0.05761381611518539, 0.5972274677144761, '14.29'),\n",
       "  Text(-0.4033805443410911, 0.44416678899607637, '12.24'),\n",
       "  Text(-0.5889354966601196, 0.11469516456110188, '8.16'),\n",
       "  Text(-0.5889354926331681, -0.11469518523864697, '4.08'),\n",
       "  Text(-0.5405813185652125, -0.2603302479895415, '4.08'),\n",
       "  Text(-0.45686757381384324, -0.38893703860323264, '4.08'),\n",
       "  Text(-0.3432699971311241, -0.4921033520202825, '4.08'),\n",
       "  Text(-0.20721903682192505, -0.563081051695574, '4.08'),\n",
       "  Text(-0.057613823104744395, -0.5972274670402017, '4.08'),\n",
       "  Text(0.0957599264098279, -0.5923090717640447, '4.08'),\n",
       "  Text(0.20721902034709555, -0.5630810577584634, '2.04'),\n",
       "  Text(0.2775229611213397, -0.5319595906179748, '2.04'),\n",
       "  Text(0.3432699827329862, -0.4921033620637999, '2.04'),\n",
       "  Text(0.40338052094902394, -0.44416681024013266, '2.04'),\n",
       "  Text(0.4568675624341824, -0.38893705197042927, '2.04'),\n",
       "  Text(0.502852851481944, -0.32732095832145836, '2.04'),\n",
       "  Text(0.5405813109483756, -0.26033026380606544, '2.04'),\n",
       "  Text(0.5694334405974495, -0.18906495373112106, '2.04'),\n",
       "  Text(0.5889354892773747, -0.11469520246993443, '2.04'),\n",
       "  Text(0.5987672339010942, -0.038442159232180174, '2.04')])"
      ]
     },
     "execution_count": 74,
     "metadata": {},
     "output_type": "execute_result"
    },
    {
     "data": {
      "image/png": "[encoded data removed]",
      "text/plain": [
       "<Figure size 864x864 with 1 Axes>"
      ]
     },
     "metadata": {},
     "output_type": "display_data"
    }
   ],
   "source": [
    "#check relation between color and price\n",
    "#print('Value counts of :\\n', data.Embarked.value_counts())\n",
    "plt.figure(figsize=(12,12))\n",
    "s=data['Color'].unique()    #gives the categories in a categorical variable\n",
    "print(s)\n",
    "plt.pie(data['Color'].value_counts(),autopct='%.2f',labels=s)"
   ]
  },
  {
   "cell_type": "code",
   "execution_count": null,
   "metadata": {},
   "outputs": [],
   "source": [
    "# Top famous color in mobile phones are Green,Blue,Pyramid Gold "
   ]
  },
  {
   "cell_type": "code",
   "execution_count": 85,
   "metadata": {},
   "outputs": [
    {
     "data": {
      "image/png": "[encoded data removed]",
      "text/plain": [
       "<Figure size 1080x360 with 1 Axes>"
      ]
     },
     "metadata": {},
     "output_type": "display_data"
    }
   ],
   "source": [
    "#plt.figure(figsize=(12,12))\n",
    "#sbn.barplot(x='Color',y='Price',data=data,orient=\"v\")\n",
    "plt.figure(figsize=(15,5))\n",
    "plt.bar(data['Color'],data['Price'],color='green')\n",
    "plt.xticks(rotation=45)   # rotate \n",
    "plt.xlabel('Color')\n",
    "plt.ylabel('Price')\n",
    "plt.title('Color Vs Price')\n",
    "plt.show()\n"
   ]
  },
  {
   "cell_type": "code",
   "execution_count": 86,
   "metadata": {},
   "outputs": [],
   "source": [
    "# Their is no Pattern in the graph so we can say that color has no effect on Price"
   ]
  },
  {
   "cell_type": "code",
   "execution_count": null,
   "metadata": {},
   "outputs": [],
   "source": [
    "# Analysing the Numeric features and Target feature"
   ]
  },
  {
   "cell_type": "code",
   "execution_count": 87,
   "metadata": {},
   "outputs": [
    {
     "data": {
      "image/png": "[encoded data removed]",
      "text/plain": [
       "<Figure size 576x576 with 2 Axes>"
      ]
     },
     "metadata": {},
     "output_type": "display_data"
    }
   ],
   "source": [
    "plt.figure(figsize = (8, 8))\n",
    "sbn.heatmap(data.corr().abs(), annot = True, cmap=\"Blues\")\n",
    "plt.show()"
   ]
  },
  {
   "cell_type": "code",
   "execution_count": 89,
   "metadata": {},
   "outputs": [
    {
     "data": {
      "text/plain": [
       "<seaborn.axisgrid.PairGrid at 0x3e74b1eca0>"
      ]
     },
     "execution_count": 89,
     "metadata": {},
     "output_type": "execute_result"
    },
    {
     "data": {
      "image/png": "[encoded data removed]",
      "text/plain": [
       "<Figure size 540x540 with 12 Axes>"
      ]
     },
     "metadata": {},
     "output_type": "display_data"
    }
   ],
   "source": [
    "sbn.pairplot(data=data)"
   ]
  },
  {
   "cell_type": "code",
   "execution_count": 90,
   "metadata": {},
   "outputs": [],
   "source": [
    "# We can see their is some pattern between Price and Discount"
   ]
  },
  {
   "cell_type": "code",
   "execution_count": 92,
   "metadata": {},
   "outputs": [
    {
     "data": {
      "text/plain": [
       "<AxesSubplot:xlabel='NewDiscount', ylabel='Count'>"
      ]
     },
     "execution_count": 92,
     "metadata": {},
     "output_type": "execute_result"
    },
    {
     "data": {
      "image/png": "[encoded data removed]",
      "text/plain": [
       "<Figure size 432x288 with 1 Axes>"
      ]
     },
     "metadata": {},
     "output_type": "display_data"
    }
   ],
   "source": [
    "sbn.histplot(data=data.NewDiscount,kde=True)"
   ]
  },
  {
   "cell_type": "code",
   "execution_count": 93,
   "metadata": {},
   "outputs": [],
   "source": [
    "# Most companies are providing less than 30% discount"
   ]
  },
  {
   "cell_type": "code",
   "execution_count": 106,
   "metadata": {
    "scrolled": true
   },
   "outputs": [
    {
     "data": {
      "image/png": "[encoded data removed]",
      "text/plain": [
       "<Figure size 720x576 with 1 Axes>"
      ]
     },
     "metadata": {},
     "output_type": "display_data"
    }
   ],
   "source": [
    "plt.figure(figsize=(10,8))\n",
    "sbn.barplot(x=\"Price\",y=\"NewDiscount\",data=data)\n",
    "plt.xticks(rotation=45)\n",
    "plt.show()\n"
   ]
  },
  {
   "cell_type": "code",
   "execution_count": 107,
   "metadata": {},
   "outputs": [],
   "source": [
    "# Discount is more in Mobiles rage Rs 8299 to Rs 9799"
   ]
  },
  {
   "cell_type": "code",
   "execution_count": 124,
   "metadata": {},
   "outputs": [
    {
     "data": {
      "text/plain": [
       "<AxesSubplot:xlabel='NewRating'>"
      ]
     },
     "execution_count": 124,
     "metadata": {},
     "output_type": "execute_result"
    },
    {
     "data": {
      "image/png": "[encoded data removed]",
      "text/plain": [
       "<Figure size 432x288 with 1 Axes>"
      ]
     },
     "metadata": {},
     "output_type": "display_data"
    }
   ],
   "source": [
    "sbn.barplot(x=data.NewRating)"
   ]
  },
  {
   "cell_type": "code",
   "execution_count": 139,
   "metadata": {},
   "outputs": [
    {
     "name": "stdout",
     "output_type": "stream",
     "text": [
      "Highest Price Mobiles :              ProductName          HDD         RAM             Color    Price  \\\n",
      "32  ['Oppo Reno 4 Pro ']  [' 128GB ']  [' 8 GB ']  [' Starry Nigh']  34990.0   \n",
      "37  ['Oppo Reno 4 Pro ']  [' 128GB ']  [' 8 GB ']   [' Silky Whit']  34990.0   \n",
      "\n",
      "    NewDiscount  NewRating  \n",
      "32         21.0     9254.0  \n",
      "37         30.0      103.0  \n",
      "Lowest Price Mobiles:         ProductName        HDD         RAM             Color   Price  \\\n",
      "3   ['Xolo Era 2 ']  [' 8GB ']  [' 1 GB ']  [' Pyramid Gol']  4482.0   \n",
      "41  ['Xolo Era 2 ']  [' 8GB ']  [' 1 GB ']  [' Pyramid Gol']  4482.0   \n",
      "\n",
      "    NewDiscount  NewRating  \n",
      "3          15.0     9254.0  \n",
      "41          3.0       59.0  \n",
      "Average price of mobiles is : 11449.959183673469\n"
     ]
    }
   ],
   "source": [
    "m=data.Price.max()\n",
    "print('Highest Price Mobiles :',data[data.Price==m])\n",
    "n=data.Price.min()\n",
    "print('Lowest Price Mobiles:', data[data.Price==n])\n",
    "print('Average price of mobiles is :', data['Price'].mean())"
   ]
  },
  {
   "attachments": {},
   "cell_type": "markdown",
   "metadata": {},
   "source": [
    "# Final Conclusion\n",
    "* Coolpad Note 3 Plus is most purchased mobile\n",
    "* Hard Disk preferred is 32GB\n",
    "* RAM preference is 2GB\n",
    "* Most preferred color is Green\n",
    "* Mobiles in range of Rs.10000-12000 range are mostly purchased\n",
    "* Most Preferred Mobiles are having 2Gb or 4GB Ram and 32 GB to 64 GB HDD\n",
    "* Top famous color in mobile phones are Green, Blue,Pyramid Gold\n",
    "* Most companies are providing less than 30% discount\n",
    "* Discount is more in Mobiles rage Rs 8299 to Rs 9799\n"
   ]
  },
  {
   "cell_type": "code",
   "execution_count": null,
   "metadata": {},
   "outputs": [],
   "source": []
  }
 ],
 "metadata": {
  "kernelspec": {
   "display_name": "Python 3",
   "language": "python",
   "name": "python3"
  },
  "language_info": {
   "codemirror_mode": {
    "name": "ipython",
    "version": 3
   },
   "file_extension": ".py",
   "mimetype": "text/x-python",
   "name": "python",
   "nbconvert_exporter": "python",
   "pygments_lexer": "ipython3",
   "version": "3.8.5"
  }
 },
 "nbformat": 4,
 "nbformat_minor": 4
}
